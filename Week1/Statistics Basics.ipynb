{
 "cells": [
  {
   "cell_type": "code",
   "execution_count": 1,
   "metadata": {},
   "outputs": [],
   "source": [
    "library(datasets)"
   ]
  },
  {
   "cell_type": "code",
   "execution_count": 2,
   "metadata": {},
   "outputs": [],
   "source": [
    "help(co2)"
   ]
  },
  {
   "cell_type": "code",
   "execution_count": 3,
   "metadata": {},
   "outputs": [
    {
     "data": {
      "text/html": [
       "'ts'"
      ],
      "text/latex": [
       "'ts'"
      ],
      "text/markdown": [
       "'ts'"
      ],
      "text/plain": [
       "[1] \"ts\""
      ]
     },
     "metadata": {},
     "output_type": "display_data"
    }
   ],
   "source": [
    "class(co2)"
   ]
  },
  {
   "cell_type": "code",
   "execution_count": 4,
   "metadata": {},
   "outputs": [
    {
     "name": "stderr",
     "output_type": "stream",
     "text": [
      "ERROR while rich displaying an object: Error in repr_matrix_generic(obj, \"\\n%s%s\\n\", sprintf(\"|%%s\\n|%s|\\n\", : formal argument \"cols\" matched by multiple actual arguments\n",
      "\n",
      "Traceback:\n",
      "1. FUN(X[[i]], ...)\n",
      "2. tryCatch(withCallingHandlers({\n",
      " .     if (!mime %in% names(repr::mime2repr)) \n",
      " .         stop(\"No repr_* for mimetype \", mime, \" in repr::mime2repr\")\n",
      " .     rpr <- repr::mime2repr[[mime]](obj)\n",
      " .     if (is.null(rpr)) \n",
      " .         return(NULL)\n",
      " .     prepare_content(is.raw(rpr), rpr)\n",
      " . }, error = error_handler), error = outer_handler)\n",
      "3. tryCatchList(expr, classes, parentenv, handlers)\n",
      "4. tryCatchOne(expr, names, parentenv, handlers[[1L]])\n",
      "5. doTryCatch(return(expr), name, parentenv, handler)\n",
      "6. withCallingHandlers({\n",
      " .     if (!mime %in% names(repr::mime2repr)) \n",
      " .         stop(\"No repr_* for mimetype \", mime, \" in repr::mime2repr\")\n",
      " .     rpr <- repr::mime2repr[[mime]](obj)\n",
      " .     if (is.null(rpr)) \n",
      " .         return(NULL)\n",
      " .     prepare_content(is.raw(rpr), rpr)\n",
      " . }, error = error_handler)\n",
      "7. repr::mime2repr[[mime]](obj)\n",
      "8. repr_markdown.ts(obj)\n",
      "9. repr_ts_generic(obj, repr_markdown.matrix, ...)\n",
      "10. repr_func(m, ..., rows = nrow(m), cols = ncol(m))\n"
     ]
    },
    {
     "data": {
      "text/html": [
       "<table>\n",
       "<thead><tr><th></th><th scope=col>Jan</th><th scope=col>Feb</th><th scope=col>Mar</th><th scope=col>Apr</th><th scope=col>May</th><th scope=col>Jun</th><th scope=col>Jul</th><th scope=col>Aug</th><th scope=col>Sep</th><th scope=col>Oct</th><th scope=col>Nov</th><th scope=col>Dec</th></tr></thead>\n",
       "<tbody>\n",
       "\t<tr><th scope=row>1959</th><td>315.42</td><td>316.31</td><td>316.50</td><td>317.56</td><td>318.13</td><td>318.00</td><td>316.39</td><td>314.65</td><td>313.68</td><td>313.18</td><td>314.66</td><td>315.43</td></tr>\n",
       "\t<tr><th scope=row>1960</th><td>316.27</td><td>316.81</td><td>317.42</td><td>318.87</td><td>319.87</td><td>319.43</td><td>318.01</td><td>315.74</td><td>314.00</td><td>313.68</td><td>314.84</td><td>316.03</td></tr>\n",
       "\t<tr><th scope=row>1961</th><td>316.73</td><td>317.54</td><td>318.38</td><td>319.31</td><td>320.42</td><td>319.61</td><td>318.42</td><td>316.63</td><td>314.83</td><td>315.16</td><td>315.94</td><td>316.85</td></tr>\n",
       "\t<tr><th scope=row>1962</th><td>317.78</td><td>318.40</td><td>319.53</td><td>320.42</td><td>320.85</td><td>320.45</td><td>319.45</td><td>317.25</td><td>316.11</td><td>315.27</td><td>316.53</td><td>317.53</td></tr>\n",
       "\t<tr><th scope=row>1963</th><td>318.58</td><td>318.92</td><td>319.70</td><td>321.22</td><td>322.08</td><td>321.31</td><td>319.58</td><td>317.61</td><td>316.05</td><td>315.83</td><td>316.91</td><td>318.20</td></tr>\n",
       "\t<tr><th scope=row>1964</th><td>319.41</td><td>320.07</td><td>320.74</td><td>321.40</td><td>322.06</td><td>321.73</td><td>320.27</td><td>318.54</td><td>316.54</td><td>316.71</td><td>317.53</td><td>318.55</td></tr>\n",
       "\t<tr><th scope=row>1965</th><td>319.27</td><td>320.28</td><td>320.73</td><td>321.97</td><td>322.00</td><td>321.71</td><td>321.05</td><td>318.71</td><td>317.66</td><td>317.14</td><td>318.70</td><td>319.25</td></tr>\n",
       "\t<tr><th scope=row>1966</th><td>320.46</td><td>321.43</td><td>322.23</td><td>323.54</td><td>323.91</td><td>323.59</td><td>322.24</td><td>320.20</td><td>318.48</td><td>317.94</td><td>319.63</td><td>320.87</td></tr>\n",
       "\t<tr><th scope=row>1967</th><td>322.17</td><td>322.34</td><td>322.88</td><td>324.25</td><td>324.83</td><td>323.93</td><td>322.38</td><td>320.76</td><td>319.10</td><td>319.24</td><td>320.56</td><td>321.80</td></tr>\n",
       "\t<tr><th scope=row>1968</th><td>322.40</td><td>322.99</td><td>323.73</td><td>324.86</td><td>325.40</td><td>325.20</td><td>323.98</td><td>321.95</td><td>320.18</td><td>320.09</td><td>321.16</td><td>322.74</td></tr>\n",
       "\t<tr><th scope=row>1969</th><td>323.83</td><td>324.26</td><td>325.47</td><td>326.50</td><td>327.21</td><td>326.54</td><td>325.72</td><td>323.50</td><td>322.22</td><td>321.62</td><td>322.69</td><td>323.95</td></tr>\n",
       "\t<tr><th scope=row>1970</th><td>324.89</td><td>325.82</td><td>326.77</td><td>327.97</td><td>327.91</td><td>327.50</td><td>326.18</td><td>324.53</td><td>322.93</td><td>322.90</td><td>323.85</td><td>324.96</td></tr>\n",
       "\t<tr><th scope=row>1971</th><td>326.01</td><td>326.51</td><td>327.01</td><td>327.62</td><td>328.76</td><td>328.40</td><td>327.20</td><td>325.27</td><td>323.20</td><td>323.40</td><td>324.63</td><td>325.85</td></tr>\n",
       "\t<tr><th scope=row>1972</th><td>326.60</td><td>327.47</td><td>327.58</td><td>329.56</td><td>329.90</td><td>328.92</td><td>327.88</td><td>326.16</td><td>324.68</td><td>325.04</td><td>326.34</td><td>327.39</td></tr>\n",
       "\t<tr><th scope=row>1973</th><td>328.37</td><td>329.40</td><td>330.14</td><td>331.33</td><td>332.31</td><td>331.90</td><td>330.70</td><td>329.15</td><td>327.35</td><td>327.02</td><td>327.99</td><td>328.48</td></tr>\n",
       "\t<tr><th scope=row>1974</th><td>329.18</td><td>330.55</td><td>331.32</td><td>332.48</td><td>332.92</td><td>332.08</td><td>331.01</td><td>329.23</td><td>327.27</td><td>327.21</td><td>328.29</td><td>329.41</td></tr>\n",
       "\t<tr><th scope=row>1975</th><td>330.23</td><td>331.25</td><td>331.87</td><td>333.14</td><td>333.80</td><td>333.43</td><td>331.73</td><td>329.90</td><td>328.40</td><td>328.17</td><td>329.32</td><td>330.59</td></tr>\n",
       "\t<tr><th scope=row>1976</th><td>331.58</td><td>332.39</td><td>333.33</td><td>334.41</td><td>334.71</td><td>334.17</td><td>332.89</td><td>330.77</td><td>329.14</td><td>328.78</td><td>330.14</td><td>331.52</td></tr>\n",
       "\t<tr><th scope=row>1977</th><td>332.75</td><td>333.24</td><td>334.53</td><td>335.90</td><td>336.57</td><td>336.10</td><td>334.76</td><td>332.59</td><td>331.42</td><td>330.98</td><td>332.24</td><td>333.68</td></tr>\n",
       "\t<tr><th scope=row>1978</th><td>334.80</td><td>335.22</td><td>336.47</td><td>337.59</td><td>337.84</td><td>337.72</td><td>336.37</td><td>334.51</td><td>332.60</td><td>332.38</td><td>333.75</td><td>334.78</td></tr>\n",
       "\t<tr><th scope=row>1979</th><td>336.05</td><td>336.59</td><td>337.79</td><td>338.71</td><td>339.30</td><td>339.12</td><td>337.56</td><td>335.92</td><td>333.75</td><td>333.70</td><td>335.12</td><td>336.56</td></tr>\n",
       "\t<tr><th scope=row>1980</th><td>337.84</td><td>338.19</td><td>339.91</td><td>340.60</td><td>341.29</td><td>341.00</td><td>339.39</td><td>337.43</td><td>335.72</td><td>335.84</td><td>336.93</td><td>338.04</td></tr>\n",
       "\t<tr><th scope=row>1981</th><td>339.06</td><td>340.30</td><td>341.21</td><td>342.33</td><td>342.74</td><td>342.08</td><td>340.32</td><td>338.26</td><td>336.52</td><td>336.68</td><td>338.19</td><td>339.44</td></tr>\n",
       "\t<tr><th scope=row>1982</th><td>340.57</td><td>341.44</td><td>342.53</td><td>343.39</td><td>343.96</td><td>343.18</td><td>341.88</td><td>339.65</td><td>337.81</td><td>337.69</td><td>339.09</td><td>340.32</td></tr>\n",
       "\t<tr><th scope=row>1983</th><td>341.20</td><td>342.35</td><td>342.93</td><td>344.77</td><td>345.58</td><td>345.14</td><td>343.81</td><td>342.21</td><td>339.69</td><td>339.82</td><td>340.98</td><td>342.82</td></tr>\n",
       "\t<tr><th scope=row>1984</th><td>343.52</td><td>344.33</td><td>345.11</td><td>346.88</td><td>347.25</td><td>346.62</td><td>345.22</td><td>343.11</td><td>340.90</td><td>341.18</td><td>342.80</td><td>344.04</td></tr>\n",
       "\t<tr><th scope=row>1985</th><td>344.79</td><td>345.82</td><td>347.25</td><td>348.17</td><td>348.74</td><td>348.07</td><td>346.38</td><td>344.51</td><td>342.92</td><td>342.62</td><td>344.06</td><td>345.38</td></tr>\n",
       "\t<tr><th scope=row>1986</th><td>346.11</td><td>346.78</td><td>347.68</td><td>349.37</td><td>350.03</td><td>349.37</td><td>347.76</td><td>345.73</td><td>344.68</td><td>343.99</td><td>345.48</td><td>346.72</td></tr>\n",
       "\t<tr><th scope=row>1987</th><td>347.84</td><td>348.29</td><td>349.23</td><td>350.80</td><td>351.66</td><td>351.07</td><td>349.33</td><td>347.92</td><td>346.27</td><td>346.18</td><td>347.64</td><td>348.78</td></tr>\n",
       "\t<tr><th scope=row>1988</th><td>350.25</td><td>351.54</td><td>352.05</td><td>353.41</td><td>354.04</td><td>353.62</td><td>352.22</td><td>350.27</td><td>348.55</td><td>348.72</td><td>349.91</td><td>351.18</td></tr>\n",
       "\t<tr><th scope=row>1989</th><td>352.60</td><td>352.92</td><td>353.53</td><td>355.26</td><td>355.52</td><td>354.97</td><td>353.75</td><td>351.52</td><td>349.64</td><td>349.83</td><td>351.14</td><td>352.37</td></tr>\n",
       "\t<tr><th scope=row>1990</th><td>353.50</td><td>354.55</td><td>355.23</td><td>356.04</td><td>357.00</td><td>356.07</td><td>354.67</td><td>352.76</td><td>350.82</td><td>351.04</td><td>352.69</td><td>354.07</td></tr>\n",
       "\t<tr><th scope=row>1991</th><td>354.59</td><td>355.63</td><td>357.03</td><td>358.48</td><td>359.22</td><td>358.12</td><td>356.06</td><td>353.92</td><td>352.05</td><td>352.11</td><td>353.64</td><td>354.89</td></tr>\n",
       "\t<tr><th scope=row>1992</th><td>355.88</td><td>356.63</td><td>357.72</td><td>359.07</td><td>359.58</td><td>359.17</td><td>356.94</td><td>354.92</td><td>352.94</td><td>353.23</td><td>354.09</td><td>355.33</td></tr>\n",
       "\t<tr><th scope=row>1993</th><td>356.63</td><td>357.10</td><td>358.32</td><td>359.41</td><td>360.23</td><td>359.55</td><td>357.53</td><td>355.48</td><td>353.67</td><td>353.95</td><td>355.30</td><td>356.78</td></tr>\n",
       "\t<tr><th scope=row>1994</th><td>358.34</td><td>358.89</td><td>359.95</td><td>361.25</td><td>361.67</td><td>360.94</td><td>359.55</td><td>357.49</td><td>355.84</td><td>356.00</td><td>357.59</td><td>359.05</td></tr>\n",
       "\t<tr><th scope=row>1995</th><td>359.98</td><td>361.03</td><td>361.66</td><td>363.48</td><td>363.82</td><td>363.30</td><td>361.94</td><td>359.50</td><td>358.11</td><td>357.80</td><td>359.61</td><td>360.74</td></tr>\n",
       "\t<tr><th scope=row>1996</th><td>362.09</td><td>363.29</td><td>364.06</td><td>364.76</td><td>365.45</td><td>365.01</td><td>363.70</td><td>361.54</td><td>359.51</td><td>359.65</td><td>360.80</td><td>362.38</td></tr>\n",
       "\t<tr><th scope=row>1997</th><td>363.23</td><td>364.06</td><td>364.61</td><td>366.40</td><td>366.84</td><td>365.68</td><td>364.52</td><td>362.57</td><td>360.24</td><td>360.83</td><td>362.49</td><td>364.34</td></tr>\n",
       "</tbody>\n",
       "</table>\n"
      ],
      "text/latex": [
       "\\begin{tabular}{r|llllllllllll}\n",
       "  & Jan & Feb & Mar & Apr & May & Jun & Jul & Aug & Sep & Oct & Nov & Dec\\\\\n",
       "\\hline\n",
       "\t1959 & 315.42 & 316.31 & 316.50 & 317.56 & 318.13 & 318.00 & 316.39 & 314.65 & 313.68 & 313.18 & 314.66 & 315.43\\\\\n",
       "\t1960 & 316.27 & 316.81 & 317.42 & 318.87 & 319.87 & 319.43 & 318.01 & 315.74 & 314.00 & 313.68 & 314.84 & 316.03\\\\\n",
       "\t1961 & 316.73 & 317.54 & 318.38 & 319.31 & 320.42 & 319.61 & 318.42 & 316.63 & 314.83 & 315.16 & 315.94 & 316.85\\\\\n",
       "\t1962 & 317.78 & 318.40 & 319.53 & 320.42 & 320.85 & 320.45 & 319.45 & 317.25 & 316.11 & 315.27 & 316.53 & 317.53\\\\\n",
       "\t1963 & 318.58 & 318.92 & 319.70 & 321.22 & 322.08 & 321.31 & 319.58 & 317.61 & 316.05 & 315.83 & 316.91 & 318.20\\\\\n",
       "\t1964 & 319.41 & 320.07 & 320.74 & 321.40 & 322.06 & 321.73 & 320.27 & 318.54 & 316.54 & 316.71 & 317.53 & 318.55\\\\\n",
       "\t1965 & 319.27 & 320.28 & 320.73 & 321.97 & 322.00 & 321.71 & 321.05 & 318.71 & 317.66 & 317.14 & 318.70 & 319.25\\\\\n",
       "\t1966 & 320.46 & 321.43 & 322.23 & 323.54 & 323.91 & 323.59 & 322.24 & 320.20 & 318.48 & 317.94 & 319.63 & 320.87\\\\\n",
       "\t1967 & 322.17 & 322.34 & 322.88 & 324.25 & 324.83 & 323.93 & 322.38 & 320.76 & 319.10 & 319.24 & 320.56 & 321.80\\\\\n",
       "\t1968 & 322.40 & 322.99 & 323.73 & 324.86 & 325.40 & 325.20 & 323.98 & 321.95 & 320.18 & 320.09 & 321.16 & 322.74\\\\\n",
       "\t1969 & 323.83 & 324.26 & 325.47 & 326.50 & 327.21 & 326.54 & 325.72 & 323.50 & 322.22 & 321.62 & 322.69 & 323.95\\\\\n",
       "\t1970 & 324.89 & 325.82 & 326.77 & 327.97 & 327.91 & 327.50 & 326.18 & 324.53 & 322.93 & 322.90 & 323.85 & 324.96\\\\\n",
       "\t1971 & 326.01 & 326.51 & 327.01 & 327.62 & 328.76 & 328.40 & 327.20 & 325.27 & 323.20 & 323.40 & 324.63 & 325.85\\\\\n",
       "\t1972 & 326.60 & 327.47 & 327.58 & 329.56 & 329.90 & 328.92 & 327.88 & 326.16 & 324.68 & 325.04 & 326.34 & 327.39\\\\\n",
       "\t1973 & 328.37 & 329.40 & 330.14 & 331.33 & 332.31 & 331.90 & 330.70 & 329.15 & 327.35 & 327.02 & 327.99 & 328.48\\\\\n",
       "\t1974 & 329.18 & 330.55 & 331.32 & 332.48 & 332.92 & 332.08 & 331.01 & 329.23 & 327.27 & 327.21 & 328.29 & 329.41\\\\\n",
       "\t1975 & 330.23 & 331.25 & 331.87 & 333.14 & 333.80 & 333.43 & 331.73 & 329.90 & 328.40 & 328.17 & 329.32 & 330.59\\\\\n",
       "\t1976 & 331.58 & 332.39 & 333.33 & 334.41 & 334.71 & 334.17 & 332.89 & 330.77 & 329.14 & 328.78 & 330.14 & 331.52\\\\\n",
       "\t1977 & 332.75 & 333.24 & 334.53 & 335.90 & 336.57 & 336.10 & 334.76 & 332.59 & 331.42 & 330.98 & 332.24 & 333.68\\\\\n",
       "\t1978 & 334.80 & 335.22 & 336.47 & 337.59 & 337.84 & 337.72 & 336.37 & 334.51 & 332.60 & 332.38 & 333.75 & 334.78\\\\\n",
       "\t1979 & 336.05 & 336.59 & 337.79 & 338.71 & 339.30 & 339.12 & 337.56 & 335.92 & 333.75 & 333.70 & 335.12 & 336.56\\\\\n",
       "\t1980 & 337.84 & 338.19 & 339.91 & 340.60 & 341.29 & 341.00 & 339.39 & 337.43 & 335.72 & 335.84 & 336.93 & 338.04\\\\\n",
       "\t1981 & 339.06 & 340.30 & 341.21 & 342.33 & 342.74 & 342.08 & 340.32 & 338.26 & 336.52 & 336.68 & 338.19 & 339.44\\\\\n",
       "\t1982 & 340.57 & 341.44 & 342.53 & 343.39 & 343.96 & 343.18 & 341.88 & 339.65 & 337.81 & 337.69 & 339.09 & 340.32\\\\\n",
       "\t1983 & 341.20 & 342.35 & 342.93 & 344.77 & 345.58 & 345.14 & 343.81 & 342.21 & 339.69 & 339.82 & 340.98 & 342.82\\\\\n",
       "\t1984 & 343.52 & 344.33 & 345.11 & 346.88 & 347.25 & 346.62 & 345.22 & 343.11 & 340.90 & 341.18 & 342.80 & 344.04\\\\\n",
       "\t1985 & 344.79 & 345.82 & 347.25 & 348.17 & 348.74 & 348.07 & 346.38 & 344.51 & 342.92 & 342.62 & 344.06 & 345.38\\\\\n",
       "\t1986 & 346.11 & 346.78 & 347.68 & 349.37 & 350.03 & 349.37 & 347.76 & 345.73 & 344.68 & 343.99 & 345.48 & 346.72\\\\\n",
       "\t1987 & 347.84 & 348.29 & 349.23 & 350.80 & 351.66 & 351.07 & 349.33 & 347.92 & 346.27 & 346.18 & 347.64 & 348.78\\\\\n",
       "\t1988 & 350.25 & 351.54 & 352.05 & 353.41 & 354.04 & 353.62 & 352.22 & 350.27 & 348.55 & 348.72 & 349.91 & 351.18\\\\\n",
       "\t1989 & 352.60 & 352.92 & 353.53 & 355.26 & 355.52 & 354.97 & 353.75 & 351.52 & 349.64 & 349.83 & 351.14 & 352.37\\\\\n",
       "\t1990 & 353.50 & 354.55 & 355.23 & 356.04 & 357.00 & 356.07 & 354.67 & 352.76 & 350.82 & 351.04 & 352.69 & 354.07\\\\\n",
       "\t1991 & 354.59 & 355.63 & 357.03 & 358.48 & 359.22 & 358.12 & 356.06 & 353.92 & 352.05 & 352.11 & 353.64 & 354.89\\\\\n",
       "\t1992 & 355.88 & 356.63 & 357.72 & 359.07 & 359.58 & 359.17 & 356.94 & 354.92 & 352.94 & 353.23 & 354.09 & 355.33\\\\\n",
       "\t1993 & 356.63 & 357.10 & 358.32 & 359.41 & 360.23 & 359.55 & 357.53 & 355.48 & 353.67 & 353.95 & 355.30 & 356.78\\\\\n",
       "\t1994 & 358.34 & 358.89 & 359.95 & 361.25 & 361.67 & 360.94 & 359.55 & 357.49 & 355.84 & 356.00 & 357.59 & 359.05\\\\\n",
       "\t1995 & 359.98 & 361.03 & 361.66 & 363.48 & 363.82 & 363.30 & 361.94 & 359.50 & 358.11 & 357.80 & 359.61 & 360.74\\\\\n",
       "\t1996 & 362.09 & 363.29 & 364.06 & 364.76 & 365.45 & 365.01 & 363.70 & 361.54 & 359.51 & 359.65 & 360.80 & 362.38\\\\\n",
       "\t1997 & 363.23 & 364.06 & 364.61 & 366.40 & 366.84 & 365.68 & 364.52 & 362.57 & 360.24 & 360.83 & 362.49 & 364.34\\\\\n",
       "\\end{tabular}\n"
      ],
      "text/plain": [
       "     Jan    Feb    Mar    Apr    May    Jun    Jul    Aug    Sep    Oct   \n",
       "1959 315.42 316.31 316.50 317.56 318.13 318.00 316.39 314.65 313.68 313.18\n",
       "1960 316.27 316.81 317.42 318.87 319.87 319.43 318.01 315.74 314.00 313.68\n",
       "1961 316.73 317.54 318.38 319.31 320.42 319.61 318.42 316.63 314.83 315.16\n",
       "1962 317.78 318.40 319.53 320.42 320.85 320.45 319.45 317.25 316.11 315.27\n",
       "1963 318.58 318.92 319.70 321.22 322.08 321.31 319.58 317.61 316.05 315.83\n",
       "1964 319.41 320.07 320.74 321.40 322.06 321.73 320.27 318.54 316.54 316.71\n",
       "1965 319.27 320.28 320.73 321.97 322.00 321.71 321.05 318.71 317.66 317.14\n",
       "1966 320.46 321.43 322.23 323.54 323.91 323.59 322.24 320.20 318.48 317.94\n",
       "1967 322.17 322.34 322.88 324.25 324.83 323.93 322.38 320.76 319.10 319.24\n",
       "1968 322.40 322.99 323.73 324.86 325.40 325.20 323.98 321.95 320.18 320.09\n",
       "1969 323.83 324.26 325.47 326.50 327.21 326.54 325.72 323.50 322.22 321.62\n",
       "1970 324.89 325.82 326.77 327.97 327.91 327.50 326.18 324.53 322.93 322.90\n",
       "1971 326.01 326.51 327.01 327.62 328.76 328.40 327.20 325.27 323.20 323.40\n",
       "1972 326.60 327.47 327.58 329.56 329.90 328.92 327.88 326.16 324.68 325.04\n",
       "1973 328.37 329.40 330.14 331.33 332.31 331.90 330.70 329.15 327.35 327.02\n",
       "1974 329.18 330.55 331.32 332.48 332.92 332.08 331.01 329.23 327.27 327.21\n",
       "1975 330.23 331.25 331.87 333.14 333.80 333.43 331.73 329.90 328.40 328.17\n",
       "1976 331.58 332.39 333.33 334.41 334.71 334.17 332.89 330.77 329.14 328.78\n",
       "1977 332.75 333.24 334.53 335.90 336.57 336.10 334.76 332.59 331.42 330.98\n",
       "1978 334.80 335.22 336.47 337.59 337.84 337.72 336.37 334.51 332.60 332.38\n",
       "1979 336.05 336.59 337.79 338.71 339.30 339.12 337.56 335.92 333.75 333.70\n",
       "1980 337.84 338.19 339.91 340.60 341.29 341.00 339.39 337.43 335.72 335.84\n",
       "1981 339.06 340.30 341.21 342.33 342.74 342.08 340.32 338.26 336.52 336.68\n",
       "1982 340.57 341.44 342.53 343.39 343.96 343.18 341.88 339.65 337.81 337.69\n",
       "1983 341.20 342.35 342.93 344.77 345.58 345.14 343.81 342.21 339.69 339.82\n",
       "1984 343.52 344.33 345.11 346.88 347.25 346.62 345.22 343.11 340.90 341.18\n",
       "1985 344.79 345.82 347.25 348.17 348.74 348.07 346.38 344.51 342.92 342.62\n",
       "1986 346.11 346.78 347.68 349.37 350.03 349.37 347.76 345.73 344.68 343.99\n",
       "1987 347.84 348.29 349.23 350.80 351.66 351.07 349.33 347.92 346.27 346.18\n",
       "1988 350.25 351.54 352.05 353.41 354.04 353.62 352.22 350.27 348.55 348.72\n",
       "1989 352.60 352.92 353.53 355.26 355.52 354.97 353.75 351.52 349.64 349.83\n",
       "1990 353.50 354.55 355.23 356.04 357.00 356.07 354.67 352.76 350.82 351.04\n",
       "1991 354.59 355.63 357.03 358.48 359.22 358.12 356.06 353.92 352.05 352.11\n",
       "1992 355.88 356.63 357.72 359.07 359.58 359.17 356.94 354.92 352.94 353.23\n",
       "1993 356.63 357.10 358.32 359.41 360.23 359.55 357.53 355.48 353.67 353.95\n",
       "1994 358.34 358.89 359.95 361.25 361.67 360.94 359.55 357.49 355.84 356.00\n",
       "1995 359.98 361.03 361.66 363.48 363.82 363.30 361.94 359.50 358.11 357.80\n",
       "1996 362.09 363.29 364.06 364.76 365.45 365.01 363.70 361.54 359.51 359.65\n",
       "1997 363.23 364.06 364.61 366.40 366.84 365.68 364.52 362.57 360.24 360.83\n",
       "     Nov    Dec   \n",
       "1959 314.66 315.43\n",
       "1960 314.84 316.03\n",
       "1961 315.94 316.85\n",
       "1962 316.53 317.53\n",
       "1963 316.91 318.20\n",
       "1964 317.53 318.55\n",
       "1965 318.70 319.25\n",
       "1966 319.63 320.87\n",
       "1967 320.56 321.80\n",
       "1968 321.16 322.74\n",
       "1969 322.69 323.95\n",
       "1970 323.85 324.96\n",
       "1971 324.63 325.85\n",
       "1972 326.34 327.39\n",
       "1973 327.99 328.48\n",
       "1974 328.29 329.41\n",
       "1975 329.32 330.59\n",
       "1976 330.14 331.52\n",
       "1977 332.24 333.68\n",
       "1978 333.75 334.78\n",
       "1979 335.12 336.56\n",
       "1980 336.93 338.04\n",
       "1981 338.19 339.44\n",
       "1982 339.09 340.32\n",
       "1983 340.98 342.82\n",
       "1984 342.80 344.04\n",
       "1985 344.06 345.38\n",
       "1986 345.48 346.72\n",
       "1987 347.64 348.78\n",
       "1988 349.91 351.18\n",
       "1989 351.14 352.37\n",
       "1990 352.69 354.07\n",
       "1991 353.64 354.89\n",
       "1992 354.09 355.33\n",
       "1993 355.30 356.78\n",
       "1994 357.59 359.05\n",
       "1995 359.61 360.74\n",
       "1996 360.80 362.38\n",
       "1997 362.49 364.34"
      ]
     },
     "metadata": {},
     "output_type": "display_data"
    }
   ],
   "source": [
    "# Ignore the Error. happend due to version differences.\n",
    "\n",
    "co2"
   ]
  },
  {
   "cell_type": "code",
   "execution_count": 5,
   "metadata": {},
   "outputs": [
    {
     "data": {
      "image/png": "[encoded data removed]",
      "text/plain": [
       "Plot with title \"co2 data set\""
      ]
     },
     "metadata": {},
     "output_type": "display_data"
    }
   ],
   "source": [
    "options(repr.plot.width = 8, repr.plot.height=5)\n",
    "plot(co2, ylab = expression(\"Atmospheric concentration of CO\"[2]),las = 1, col=\"blue\")\n",
    "title(main = \"co2 data set\")"
   ]
  },
  {
   "cell_type": "markdown",
   "metadata": {},
   "source": [
    "# Linear Regression"
   ]
  },
  {
   "cell_type": "code",
   "execution_count": 6,
   "metadata": {},
   "outputs": [],
   "source": [
    "co2.linear.model = lm(co2 ~ time(co2))"
   ]
  },
  {
   "cell_type": "code",
   "execution_count": 7,
   "metadata": {},
   "outputs": [
    {
     "data": {
      "image/png": "[encoded data removed]",
      "text/plain": [
       "Plot with title \"Atmospheric CO2 Concentration with Fitted Line\""
      ]
     },
     "metadata": {},
     "output_type": "display_data"
    }
   ],
   "source": [
    "plot(co2, main='Atmospheric CO2 Concentration with Fitted Line', col=\"blue\")\n",
    "abline(co2.linear.model, col=\"red\")"
   ]
  },
  {
   "cell_type": "code",
   "execution_count": 8,
   "metadata": {},
   "outputs": [
    {
     "data": {
      "text/plain": [
       "\n",
       "Call:\n",
       "lm(formula = co2 ~ time(co2))\n",
       "\n",
       "Residuals:\n",
       "    Min      1Q  Median      3Q     Max \n",
       "-6.0399 -1.9476 -0.0017  1.9113  6.5149 \n",
       "\n",
       "Coefficients:\n",
       "              Estimate Std. Error t value Pr(>|t|)    \n",
       "(Intercept) -2.250e+03  2.127e+01  -105.8   <2e-16 ***\n",
       "time(co2)    1.308e+00  1.075e-02   121.6   <2e-16 ***\n",
       "---\n",
       "Signif. codes:  0 '***' 0.001 '**' 0.01 '*' 0.05 '.' 0.1 ' ' 1\n",
       "\n",
       "Residual standard error: 2.618 on 466 degrees of freedom\n",
       "Multiple R-squared:  0.9695,\tAdjusted R-squared:  0.9694 \n",
       "F-statistic: 1.479e+04 on 1 and 466 DF,  p-value: < 2.2e-16\n"
      ]
     },
     "metadata": {},
     "output_type": "display_data"
    }
   ],
   "source": [
    "summary(co2.linear.model)"
   ]
  },
  {
   "cell_type": "markdown",
   "metadata": {},
   "source": [
    "# Residual Analysis"
   ]
  },
  {
   "cell_type": "code",
   "execution_count": 9,
   "metadata": {},
   "outputs": [],
   "source": [
    "co2.residuals <- residuals(co2.linear.model)"
   ]
  },
  {
   "cell_type": "code",
   "execution_count": 10,
   "metadata": {},
   "outputs": [
    {
     "data": {
      "image/png": "[encoded data removed]",
      "text/plain": [
       "plot without title"
      ]
     },
     "metadata": {},
     "output_type": "display_data"
    }
   ],
   "source": [
    "plot(co2.residuals, col=\"blue\")\n",
    "lines(x = seq(0,499), y = rep(0, 500), lwd = 2, col = \"red\")"
   ]
  },
  {
   "cell_type": "code",
   "execution_count": 11,
   "metadata": {},
   "outputs": [
    {
     "data": {
      "image/png": "[encoded data removed]",
      "text/plain": [
       "Plot with title \"Histogram of co2.residuals\""
      ]
     },
     "metadata": {},
     "output_type": "display_data"
    }
   ],
   "source": [
    "hist(co2.residuals, freq = F, col = \"green\")\n",
    "lines(density(co2.residuals), col = \"red\", lwd = 2)"
   ]
  },
  {
   "cell_type": "code",
   "execution_count": 12,
   "metadata": {},
   "outputs": [
    {
     "data": {
      "image/png": "[encoded data removed]",
      "text/plain": [
       "Plot with title \"Normal Q-Q Plot\""
      ]
     },
     "metadata": {},
     "output_type": "display_data"
    }
   ],
   "source": [
    "qqnorm(co2.residuals, col=\"blue\")\n",
    "qqline(co2.residuals, col=\"red\", lwd=2)"
   ]
  },
  {
   "cell_type": "code",
   "execution_count": 13,
   "metadata": {},
   "outputs": [
    {
     "data": {
      "image/png": "[encoded data removed]",
      "text/plain": [
       "Plot with title \"Zoomed in Residuals on Time\""
      ]
     },
     "metadata": {},
     "output_type": "display_data"
    }
   ],
   "source": [
    "plot(co2.residuals ~ time(co2), xlim=c(1960, 1963), main=\"Zoomed in Residuals on Time\", col=\"blue\")"
   ]
  },
  {
   "cell_type": "markdown",
   "metadata": {},
   "source": [
    "# Inferential Statistics"
   ]
  },
  {
   "cell_type": "code",
   "execution_count": 14,
   "metadata": {},
   "outputs": [],
   "source": [
    "help(sleep)"
   ]
  },
  {
   "cell_type": "code",
   "execution_count": 15,
   "metadata": {},
   "outputs": [
    {
     "data": {
      "text/html": [
       "<table>\n",
       "<thead><tr><th scope=col>extra</th><th scope=col>group</th><th scope=col>ID</th></tr></thead>\n",
       "<tbody>\n",
       "\t<tr><td> 0.7</td><td>1   </td><td>1   </td></tr>\n",
       "\t<tr><td>-1.6</td><td>1   </td><td>2   </td></tr>\n",
       "\t<tr><td>-0.2</td><td>1   </td><td>3   </td></tr>\n",
       "\t<tr><td>-1.2</td><td>1   </td><td>4   </td></tr>\n",
       "\t<tr><td>-0.1</td><td>1   </td><td>5   </td></tr>\n",
       "\t<tr><td> 3.4</td><td>1   </td><td>6   </td></tr>\n",
       "</tbody>\n",
       "</table>\n"
      ],
      "text/latex": [
       "\\begin{tabular}{r|lll}\n",
       " extra & group & ID\\\\\n",
       "\\hline\n",
       "\t  0.7 & 1    & 1   \\\\\n",
       "\t -1.6 & 1    & 2   \\\\\n",
       "\t -0.2 & 1    & 3   \\\\\n",
       "\t -1.2 & 1    & 4   \\\\\n",
       "\t -0.1 & 1    & 5   \\\\\n",
       "\t  3.4 & 1    & 6   \\\\\n",
       "\\end{tabular}\n"
      ],
      "text/markdown": [
       "\n",
       "| extra | group | ID |\n",
       "|---|---|---|\n",
       "|  0.7 | 1    | 1    |\n",
       "| -1.6 | 1    | 2    |\n",
       "| -0.2 | 1    | 3    |\n",
       "| -1.2 | 1    | 4    |\n",
       "| -0.1 | 1    | 5    |\n",
       "|  3.4 | 1    | 6    |\n",
       "\n"
      ],
      "text/plain": [
       "  extra group ID\n",
       "1  0.7  1     1 \n",
       "2 -1.6  1     2 \n",
       "3 -0.2  1     3 \n",
       "4 -1.2  1     4 \n",
       "5 -0.1  1     5 \n",
       "6  3.4  1     6 "
      ]
     },
     "metadata": {},
     "output_type": "display_data"
    }
   ],
   "source": [
    "head(sleep)"
   ]
  },
  {
   "cell_type": "code",
   "execution_count": 16,
   "metadata": {},
   "outputs": [
    {
     "data": {
      "text/plain": [
       "     extra        group        ID   \n",
       " Min.   :-1.600   1:10   1      :2  \n",
       " 1st Qu.:-0.025   2:10   2      :2  \n",
       " Median : 0.950          3      :2  \n",
       " Mean   : 1.540          4      :2  \n",
       " 3rd Qu.: 3.400          5      :2  \n",
       " Max.   : 5.500          6      :2  \n",
       "                         (Other):8  "
      ]
     },
     "metadata": {},
     "output_type": "display_data"
    }
   ],
   "source": [
    "summary(sleep)"
   ]
  },
  {
   "cell_type": "code",
   "execution_count": 17,
   "metadata": {
    "scrolled": false
   },
   "outputs": [
    {
     "data": {
      "image/png": "[encoded data removed]",
      "text/plain": [
       "Plot with title \"Extra Sleep in Gossett Data by Group\""
      ]
     },
     "metadata": {},
     "output_type": "display_data"
    }
   ],
   "source": [
    "plot(extra~group, data=sleep, main = \"Extra Sleep in Gossett Data by Group\")"
   ]
  },
  {
   "cell_type": "code",
   "execution_count": 18,
   "metadata": {},
   "outputs": [],
   "source": [
    "attach(sleep)\n",
    "extra.1 <- extra[group==1]\n",
    "extra.2 <- extra[group==2]"
   ]
  },
  {
   "cell_type": "markdown",
   "metadata": {},
   "source": [
    "Let's perform a paired T-test.<br>\n",
    "The statistic we have used is the Student-t for the paired differences $𝑥_𝑑 = 𝑥 − 𝑦$.<br>\n",
    "$$t = \\frac{\\bar{x_d} - 0}{\\frac{sd}{\\sqrt{n}}}$$"
   ]
  },
  {
   "cell_type": "code",
   "execution_count": 19,
   "metadata": {},
   "outputs": [
    {
     "data": {
      "text/plain": [
       "\n",
       "\tPaired t-test\n",
       "\n",
       "data:  extra.1 and extra.2\n",
       "t = -4.0621, df = 9, p-value = 0.002833\n",
       "alternative hypothesis: true difference in means is not equal to 0\n",
       "95 percent confidence interval:\n",
       " -2.4598858 -0.7001142\n",
       "sample estimates:\n",
       "mean of the differences \n",
       "                  -1.58 \n"
      ]
     },
     "metadata": {},
     "output_type": "display_data"
    }
   ],
   "source": [
    "t.test(extra.1, extra.2, paired=TRUE, alternative=\"two.sided\")"
   ]
  },
  {
   "cell_type": "markdown",
   "metadata": {},
   "source": [
    "The rather large negative t-value leads us to believe that the visual evidence in the box plot is\n",
    "supported by the statistical approach. The p-value is quite small and our data are significant at\n",
    "the customary 𝛼 = 0.01 level.<br>\n",
    "$$𝑝 < 𝛼 ⇒ 𝑟𝑒𝑗𝑒𝑐𝑡$$\n",
    "The sample average difference obtained from these ten individuals estimates the population\n",
    "parameter 𝜇_𝑑. An interval estimate provides a quality statement and is more interesting than the\n",
    "point estimate of 𝑥̅− 𝑦̅ = −1.58.<br>\n",
    "At the 95% level of confidence we make the traditional\n",
    "statement that, whatever the actual difference in means, our interval estimate is\n",
    "$$ 95\\% 𝐶onfidence Interval: − 2.4598858 < 𝜇_𝑑 < −0.7001142$$"
   ]
  },
  {
   "cell_type": "code",
   "execution_count": 23,
   "metadata": {},
   "outputs": [
    {
     "data": {
      "text/html": [
       "0.00283300784039016"
      ],
      "text/latex": [
       "0.00283300784039016"
      ],
      "text/markdown": [
       "0.00283300784039016"
      ],
      "text/plain": [
       "[1] 0.002833008"
      ]
     },
     "metadata": {},
     "output_type": "display_data"
    }
   ],
   "source": [
    "# We can calcualte as \n",
    "\n",
    "2*pt(-4.0621, 9) \n",
    "\n",
    "# WE multiplied t-statistic value by 2 because it's two tale test."
   ]
  },
  {
   "cell_type": "code",
   "execution_count": 39,
   "metadata": {},
   "outputs": [
    {
     "data": {
      "text/html": [
       "'( -2.459886, -0.700114)'"
      ],
      "text/latex": [
       "'( -2.459886, -0.700114)'"
      ],
      "text/markdown": [
       "'( -2.459886, -0.700114)'"
      ],
      "text/plain": [
       "[1] \"( -2.459886, -0.700114)\""
      ]
     },
     "metadata": {},
     "output_type": "display_data"
    }
   ],
   "source": [
    "# To get the confidence interval we can use this method.\n",
    "\n",
    "mean_err <- mean(extra.1 - extra.2)\n",
    "std_err<- sd(extra.1 - extra.2)\n",
    "n <- length(extra.1 - extra.2)\n",
    "alpha <- 0.05\n",
    "t_stat <- qt(1 - (alpha/2), 9)\n",
    "\n",
    "sprintf(\"( %f, %f)\", mean_err - (t_stat*std_err/sqrt(n)), mean_err + (t_stat*std_err/sqrt(n)))"
   ]
  },
  {
   "cell_type": "markdown",
   "metadata": {},
   "source": [
    "# Linear Association"
   ]
  },
  {
   "cell_type": "code",
   "execution_count": 40,
   "metadata": {},
   "outputs": [],
   "source": [
    "help(trees)"
   ]
  },
  {
   "cell_type": "code",
   "execution_count": 42,
   "metadata": {},
   "outputs": [
    {
     "data": {
      "text/html": [
       "<table>\n",
       "<thead><tr><th scope=col>Girth</th><th scope=col>Height</th><th scope=col>Volume</th></tr></thead>\n",
       "<tbody>\n",
       "\t<tr><td> 8.3</td><td>70  </td><td>10.3</td></tr>\n",
       "\t<tr><td> 8.6</td><td>65  </td><td>10.3</td></tr>\n",
       "\t<tr><td> 8.8</td><td>63  </td><td>10.2</td></tr>\n",
       "\t<tr><td>10.5</td><td>72  </td><td>16.4</td></tr>\n",
       "\t<tr><td>10.7</td><td>81  </td><td>18.8</td></tr>\n",
       "\t<tr><td>10.8</td><td>83  </td><td>19.7</td></tr>\n",
       "</tbody>\n",
       "</table>\n"
      ],
      "text/latex": [
       "\\begin{tabular}{r|lll}\n",
       " Girth & Height & Volume\\\\\n",
       "\\hline\n",
       "\t  8.3 & 70   & 10.3\\\\\n",
       "\t  8.6 & 65   & 10.3\\\\\n",
       "\t  8.8 & 63   & 10.2\\\\\n",
       "\t 10.5 & 72   & 16.4\\\\\n",
       "\t 10.7 & 81   & 18.8\\\\\n",
       "\t 10.8 & 83   & 19.7\\\\\n",
       "\\end{tabular}\n"
      ],
      "text/markdown": [
       "\n",
       "| Girth | Height | Volume |\n",
       "|---|---|---|\n",
       "|  8.3 | 70   | 10.3 |\n",
       "|  8.6 | 65   | 10.3 |\n",
       "|  8.8 | 63   | 10.2 |\n",
       "| 10.5 | 72   | 16.4 |\n",
       "| 10.7 | 81   | 18.8 |\n",
       "| 10.8 | 83   | 19.7 |\n",
       "\n"
      ],
      "text/plain": [
       "  Girth Height Volume\n",
       "1  8.3  70     10.3  \n",
       "2  8.6  65     10.3  \n",
       "3  8.8  63     10.2  \n",
       "4 10.5  72     16.4  \n",
       "5 10.7  81     18.8  \n",
       "6 10.8  83     19.7  "
      ]
     },
     "metadata": {},
     "output_type": "display_data"
    }
   ],
   "source": [
    "head(trees)"
   ]
  },
  {
   "cell_type": "code",
   "execution_count": 49,
   "metadata": {},
   "outputs": [
    {
     "data": {
      "image/png": "[encoded data removed]",
      "text/plain": [
       "plot without title"
      ]
     },
     "metadata": {},
     "output_type": "display_data"
    }
   ],
   "source": [
    "pairs(trees, col=\"blue\")"
   ]
  },
  {
   "cell_type": "code",
   "execution_count": 51,
   "metadata": {},
   "outputs": [
    {
     "data": {
      "text/html": [
       "<table>\n",
       "<thead><tr><th></th><th scope=col>Girth</th><th scope=col>Height</th><th scope=col>Volume</th></tr></thead>\n",
       "<tbody>\n",
       "\t<tr><th scope=row>Girth</th><td>1.0000000</td><td>0.5192801</td><td>0.9671194</td></tr>\n",
       "\t<tr><th scope=row>Height</th><td>0.5192801</td><td>1.0000000</td><td>0.5982497</td></tr>\n",
       "\t<tr><th scope=row>Volume</th><td>0.9671194</td><td>0.5982497</td><td>1.0000000</td></tr>\n",
       "</tbody>\n",
       "</table>\n"
      ],
      "text/latex": [
       "\\begin{tabular}{r|lll}\n",
       "  & Girth & Height & Volume\\\\\n",
       "\\hline\n",
       "\tGirth & 1.0000000 & 0.5192801 & 0.9671194\\\\\n",
       "\tHeight & 0.5192801 & 1.0000000 & 0.5982497\\\\\n",
       "\tVolume & 0.9671194 & 0.5982497 & 1.0000000\\\\\n",
       "\\end{tabular}\n"
      ],
      "text/markdown": [
       "\n",
       "| <!--/--> | Girth | Height | Volume |\n",
       "|---|---|---|---|\n",
       "| Girth | 1.0000000 | 0.5192801 | 0.9671194 |\n",
       "| Height | 0.5192801 | 1.0000000 | 0.5982497 |\n",
       "| Volume | 0.9671194 | 0.5982497 | 1.0000000 |\n",
       "\n"
      ],
      "text/plain": [
       "       Girth     Height    Volume   \n",
       "Girth  1.0000000 0.5192801 0.9671194\n",
       "Height 0.5192801 1.0000000 0.5982497\n",
       "Volume 0.9671194 0.5982497 1.0000000"
      ]
     },
     "metadata": {},
     "output_type": "display_data"
    }
   ],
   "source": [
    "cor(trees)"
   ]
  },
  {
   "cell_type": "code",
   "execution_count": 52,
   "metadata": {},
   "outputs": [
    {
     "data": {
      "text/html": [
       "<table>\n",
       "<thead><tr><th></th><th scope=col>Girth</th><th scope=col>Height</th><th scope=col>Volume</th></tr></thead>\n",
       "<tbody>\n",
       "\t<tr><th scope=row>Girth</th><td> 9.847914</td><td>10.38333 </td><td> 49.88812</td></tr>\n",
       "\t<tr><th scope=row>Height</th><td>10.383333</td><td>40.60000 </td><td> 62.66000</td></tr>\n",
       "\t<tr><th scope=row>Volume</th><td>49.888118</td><td>62.66000 </td><td>270.20280</td></tr>\n",
       "</tbody>\n",
       "</table>\n"
      ],
      "text/latex": [
       "\\begin{tabular}{r|lll}\n",
       "  & Girth & Height & Volume\\\\\n",
       "\\hline\n",
       "\tGirth &  9.847914 & 10.38333  &  49.88812\\\\\n",
       "\tHeight & 10.383333 & 40.60000  &  62.66000\\\\\n",
       "\tVolume & 49.888118 & 62.66000  & 270.20280\\\\\n",
       "\\end{tabular}\n"
      ],
      "text/markdown": [
       "\n",
       "| <!--/--> | Girth | Height | Volume |\n",
       "|---|---|---|---|\n",
       "| Girth |  9.847914 | 10.38333  |  49.88812 |\n",
       "| Height | 10.383333 | 40.60000  |  62.66000 |\n",
       "| Volume | 49.888118 | 62.66000  | 270.20280 |\n",
       "\n"
      ],
      "text/plain": [
       "       Girth     Height   Volume   \n",
       "Girth   9.847914 10.38333  49.88812\n",
       "Height 10.383333 40.60000  62.66000\n",
       "Volume 49.888118 62.66000 270.20280"
      ]
     },
     "metadata": {},
     "output_type": "display_data"
    }
   ],
   "source": [
    "cov(trees)"
   ]
  },
  {
   "cell_type": "code",
   "execution_count": null,
   "metadata": {},
   "outputs": [],
   "source": []
  }
 ],
 "metadata": {
  "@webio": {
   "lastCommId": null,
   "lastKernelId": null
  },
  "kernelspec": {
   "display_name": "R",
   "language": "R",
   "name": "ir"
  },
  "language_info": {
   "codemirror_mode": "r",
   "file_extension": ".r",
   "mimetype": "text/x-r-source",
   "name": "R",
   "pygments_lexer": "r",
   "version": "3.4.3"
  }
 },
 "nbformat": 4,
 "nbformat_minor": 2
}
